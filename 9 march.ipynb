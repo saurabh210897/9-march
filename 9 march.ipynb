{
 "cells": [
  {
   "cell_type": "code",
   "execution_count": 22,
   "id": "01867a71-8421-435e-8549-87ebdde3210c",
   "metadata": {},
   "outputs": [],
   "source": [
    "# Q1: What are the Probability Mass Function (PMF) and Probability Density Function (PDF)? Explain with \n",
    "# an example."
   ]
  },
  {
   "cell_type": "code",
   "execution_count": 2,
   "id": "32227d07-46e8-488c-aab7-fb7fb5bf144d",
   "metadata": {},
   "outputs": [],
   "source": [
    "# The Probability Mass Function (PMF) and Probability Density Function (PDF) are two fundamental concepts in probability theory and statistics that describe \n",
    "# the distribution of a random variable.\n",
    "\n",
    "# The PMF is a function that gives the probability of a discrete random variable taking on a specific value. It is defined as:\n",
    "\n",
    "# PMF(x) = P(X = x)\n",
    "\n",
    "# where X is the random variable, and x is a specific value that X can take on. The PMF assigns a probability to each possible outcome of the random variable, \n",
    "# and the sum of all probabilities is equal to 1.\n",
    "\n",
    "# For example, consider a fair six-sided die. The PMF of the random variable X, which represents the outcome of a single roll of the die, is given by:\n",
    "\n",
    "# PMF(1) = 1/6\n",
    "# PMF(2) = 1/6\n",
    "# PMF(3) = 1/6\n",
    "# PMF(4) = 1/6\n",
    "# PMF(5) = 1/6\n",
    "# PMF(6) = 1/6\n",
    "\n",
    "# Here, each value of x (1, 2, 3, 4, 5, or 6) has an equal probability of 1/6.\n",
    "\n",
    "# The PDF, on the other hand, is a function that gives the probability density of a continuous random variable at a particular point. It is defined as:\n",
    "\n",
    "# PDF(x) = dF(x)/dx\n",
    "\n",
    "# where F(x) is the cumulative distribution function (CDF) of the random variable X. The PDF does not directly give the probability of a specific value of X, \n",
    "# but rather the probability density around a particular value.\n",
    "\n",
    "# For example, consider a normal distribution with mean 0 and standard deviation 1. The PDF of this distribution is given by:\n",
    "\n",
    "# PDF(x) = (1/sqrt(2*pi))*exp(-x^2/2)\n",
    "\n",
    "# Here, the PDF describes the probability density of the random variable X at any particular point x. The area under the PDF curve between two values of x gives the probability of \n",
    "# X falling between those two values.\n",
    "\n",
    "# ********************************************************\n",
    "\n",
    "# In summary, the PMF is used for discrete random variables, while the PDF is used for continuous random variables. The PMF gives the probability of a specific outcome, \n",
    "# while the PDF gives the probability density at a particular point."
   ]
  },
  {
   "cell_type": "code",
   "execution_count": 3,
   "id": "b0f4a11e-42e6-4370-a169-2e672d721c53",
   "metadata": {},
   "outputs": [],
   "source": [
    "# Q2: What is Cumulative Density Function (CDF)? Explain with an example. Why CDF is used?"
   ]
  },
  {
   "cell_type": "code",
   "execution_count": 6,
   "id": "8c80facd-a705-4276-95da-fcdacceda62a",
   "metadata": {},
   "outputs": [],
   "source": [
    "# The Cumulative Density Function (CDF) is a function that gives the probability that a random variable X is less than or equal to a specific value x.\n",
    "# In other words, it gives the probability that X takes on a value less than or equal to x. The CDF is defined as:\n",
    "\n",
    "# CDF(x) = P(X ≤ x)\n",
    "\n",
    "# The CDF is an important concept in probability theory and statistics because it provides a complete description of the distribution of a random variable. \n",
    "# It is also useful for calculating probabilities and making statistical inferences.\n",
    "\n",
    "# Here is an example to illustrate the concept of CDF:\n",
    "\n",
    "# Consider a random variable X that represents the height of adult males in a certain population. Suppose the mean height is 5 feet 9 inches, and the standard deviation is 3 inches. \n",
    "# We can model the distribution of X as a normal distribution with mean 69 inches and standard deviation 3 inches.\n",
    "\n",
    "# The CDF of X can be calculated using the formula for the CDF of a normal distribution:\n",
    "\n",
    "# CDF(x) = Φ((x-μ)/σ)\n",
    "\n",
    "# where Φ is the standard normal cumulative distribution function, μ is the mean of the distribution, and σ is the standard deviation of the distribution.\n",
    "\n",
    "# For example, suppose we want to find the probability that a randomly selected male from this population is less than or equal to 6 feet (72 inches) tall. \n",
    "# Using the CDF of X, we can calculate:\n",
    "\n",
    "# CDF(72) = Φ((72-69)/3) = Φ(1) = 0.8413\n",
    "\n",
    "# Therefore, the probability that a randomly selected male from this population is less than or equal to 6 feet tall is 0.8413 or 84.13%.\n",
    "\n",
    "# ***********************************\n",
    "\n",
    "# In summary, the CDF is used to describe the distribution of a random variable and calculate probabilities. \n",
    "# It provides a complete picture of the probabilities associated with different values of the random variable."
   ]
  },
  {
   "cell_type": "code",
   "execution_count": 7,
   "id": "16fc9a8d-f5d0-4ecd-9f65-733409d41c9b",
   "metadata": {},
   "outputs": [],
   "source": [
    "# Q3: What are some examples of situations where the normal distribution might be used as a model? \n",
    "# Explain how the parameters of the normal distribution relate to the shape of the distribution."
   ]
  },
  {
   "cell_type": "code",
   "execution_count": 8,
   "id": "d7aca292-14b9-4342-ae50-5d0ffbed9d52",
   "metadata": {},
   "outputs": [],
   "source": [
    "# The normal distribution, also known as the Gaussian distribution, is a widely used probability distribution in many fields such as statistics, engineering, physics, \n",
    "# and social sciences. It is commonly used to model situations where the random variable of interest is continuous and its distribution is approximately symmetric.\n",
    "\n",
    "# Here are some examples of situations where the normal distribution might be used as a model:\n",
    "\n",
    "# Heights and weights of a population: The normal distribution can be used to model the distribution of heights and weights in a population.\n",
    "\n",
    "# Test scores: The normal distribution can be used to model the distribution of test scores in a large population.\n",
    "\n",
    "# Errors in measurement: The normal distribution can be used to model the errors in a measurement process, where the errors are assumed to be random and normally distributed.\n",
    "\n",
    "# Stock prices: The normal distribution can be used to model the daily changes in the price of a stock or other financial instrument.\n",
    "\n",
    "# The normal distribution is characterized by two parameters: the mean (μ) and the standard deviation (σ). The mean represents the center of the distribution \n",
    "# and the standard deviation represents the spread or variability of the distribution.\n",
    "\n",
    "# The shape of the normal distribution is determined by these parameters as follows:\n",
    "\n",
    "# The mean μ determines the location of the center of the distribution. As the value of μ changes, the entire distribution shifts left or right on the x-axis.\n",
    "\n",
    "# The standard deviation σ determines the spread of the distribution. A smaller value of σ produces a narrower distribution with higher peak, \n",
    "# while a larger value of σ produces a wider distribution with a lower peak.\n",
    "\n",
    "# The normal distribution has a bell-shaped curve that is symmetric about the mean, with 68% of the data falling within one standard deviation of the mean, \n",
    "# 95% of the data falling within two standard deviations, and 99.7% of the data falling within three standard deviations.\n",
    "\n",
    "# In summary, the normal distribution is commonly used to model continuous data in many fields, and its parameters (mean and standard deviation) determine the shape \n",
    "# and location of the distribution."
   ]
  },
  {
   "cell_type": "code",
   "execution_count": 9,
   "id": "4e5f047c-9419-4691-84bc-44cdc72e205c",
   "metadata": {},
   "outputs": [],
   "source": [
    "# Q4: Explain the importance of Normal Distribution. Give a few real-life examples of Normal \n",
    "# Distribution. "
   ]
  },
  {
   "cell_type": "code",
   "execution_count": 10,
   "id": "70c22f29-68bd-4fa5-a9da-1e3c3833a813",
   "metadata": {},
   "outputs": [],
   "source": [
    "# The normal distribution, also known as the Gaussian distribution, is one of the most important probability distributions in statistics and data science. \n",
    "# It is a continuous probability distribution that has a bell-shaped curve and is characterized by two parameters, the mean (μ) and standard deviation (σ). \n",
    "# The normal distribution is important for several reasons:\n",
    "\n",
    "# It provides a good approximation for many real-world phenomena: Many natural phenomena and human measurements follow the normal distribution, \n",
    "# which makes it a useful tool for modeling and understanding data. For example, human height, weight, and IQ scores are often normally distributed.\n",
    "\n",
    "# It simplifies complex problems: The normal distribution has many convenient mathematical properties that make it easier to analyze data and solve complex problems. \n",
    "# For example, many statistical tests and confidence intervals assume normality, which simplifies the calculations and allows for more precise estimates.\n",
    "\n",
    "# It is widely used in statistical inference: Statistical inference is the process of making inferences about a population based on a sample of data. \n",
    "# The normal distribution plays a central role in many statistical inference techniques, such as hypothesis testing and confidence intervals.\n",
    "\n",
    "# Here are some real-life examples where the normal distribution is commonly observed:\n",
    "\n",
    "# Test scores: The distribution of scores on a standardized test, such as the SAT or GRE, is often normally distributed.\n",
    "\n",
    "# Heights and weights: The distribution of heights and weights of a large population often follows a normal distribution.\n",
    "\n",
    "# IQ scores: IQ scores are standardized measures of intelligence that are designed to follow a normal distribution with a mean of 100 and a standard deviation of 15.\n",
    "\n",
    "# Errors in measurement: Errors in measurement are often assumed to be normally distributed, which allows for the use of statistical techniques to estimate the true value of \n",
    "# the measurement.\n",
    "\n",
    "# Stock prices: Changes in stock prices over short periods of time are often assumed to be normally distributed, which allows for the use of mathematical models to predict future prices.\n",
    "\n",
    "# In summary, the normal distribution is important because it provides a good approximation for many real-world phenomena, simplifies complex problems, \n",
    "# and is widely used in statistical inference. It is commonly observed in many real-life situations, including test scores, heights and weights, IQ scores, errors in measurement,\n",
    "# and stock prices."
   ]
  },
  {
   "cell_type": "code",
   "execution_count": 11,
   "id": "3f1d4b8c-c1c8-4130-9d58-30154da144bb",
   "metadata": {},
   "outputs": [],
   "source": [
    "# Q5: What is Bernaulli Distribution? Give an Example. What is the difference between Bernoulli \n",
    "# Distribution and Binomial Distribution?"
   ]
  },
  {
   "cell_type": "code",
   "execution_count": 12,
   "id": "f58a9d4e-d50e-43d5-a5aa-b59f27cd77a1",
   "metadata": {},
   "outputs": [],
   "source": [
    "# The Bernoulli distribution is a discrete probability distribution that describes the probability of a single binary event that can have one of two possible outcomes, \n",
    "# usually labeled as success or failure. It is named after the Swiss mathematician Jacob Bernoulli, who first introduced it in his book \"Ars Conjectandi\" in 1713.\n",
    "\n",
    "# The Bernoulli distribution has a single parameter, p, which represents the probability of success. The probability mass function (PMF) of the Bernoulli distribution is given by:\n",
    "\n",
    "# P(X = k) = p^k * (1 - p)^(1-k)\n",
    "\n",
    "# where X is a random variable that takes on values of 0 (failure) or 1 (success).\n",
    "\n",
    "# An example of the Bernoulli distribution is flipping a coin, where success can be defined as getting heads and failure can be defined as getting tails. If the coin is fair, \n",
    "# then the probability of success (getting heads) is 0.5, and the probability of failure (getting tails) is also 0.5.\n",
    "\n",
    "# The difference between the Bernoulli distribution and the binomial distribution is that the Bernoulli distribution models a single binary event, \n",
    "# while the binomial distribution models the number of successes in a fixed number of independent Bernoulli trials.\n",
    "\n",
    "# The binomial distribution has two parameters, n and p, where n is the number of trials and p is the probability of success in each trial. \n",
    "# The probability mass function (PMF) of the binomial distribution is given by:\n",
    "\n",
    "# P(X = k) = (n choose k) * p^k * (1-p)^(n-k)\n",
    "\n",
    "# where X is the random variable that represents the number of successes in n trials.\n",
    "\n",
    "# An example of the binomial distribution is rolling a fair six-sided die 10 times and counting the number of times that a 5 is rolled. \n",
    "# In this case, n = 10 (the number of trials) and p = 1/6 (the probability of success in each trial, which is rolling a 5). \n",
    "# The probability of getting exactly k 5s in 10 rolls can be calculated using the binomial distribution.\n",
    "\n",
    "# In summary, the Bernoulli distribution models the probability of a single binary event, while the binomial distribution models the number of successes in \n",
    "# a fixed number of independent Bernoulli trials"
   ]
  },
  {
   "cell_type": "code",
   "execution_count": 13,
   "id": "f73510d1-3fff-4092-a43b-d95c29e95827",
   "metadata": {},
   "outputs": [],
   "source": [
    "# Q6. Consider a dataset with a mean of 50 and a standard deviation of 10. If we assume that the dataset \n",
    "# is normally distributed, what is the probability that a randomly selected observation will be greater \n",
    "# than 60? Use the appropriate formula and show your calculations."
   ]
  },
  {
   "cell_type": "code",
   "execution_count": 14,
   "id": "95fe7ae3-dd15-49e0-8834-6c5f13a8079b",
   "metadata": {},
   "outputs": [],
   "source": [
    "# Given: Mean (μ) = 50, Standard deviation (σ) = 10\n",
    "# We need to find the probability of a randomly selected observation being greater than 60.\n",
    "\n",
    "# Using the Z-score formula, we can convert the value of 60 to a standard normal distribution:\n",
    "\n",
    "# Z = (X - μ) / σ\n",
    "\n",
    "# where X is the value we want to convert, μ is the population mean, and σ is the population standard deviation.\n",
    "\n",
    "# Substituting the values, we get:\n",
    "\n",
    "# Z = (60 - 50) / 10 = 1\n",
    "\n",
    "# Now, we need to find the probability of a Z-score being greater than 1. We can use a standard normal distribution table or a calculator to find this probability.\n",
    "# The probability of a Z-score being greater than 1 is approximately 0.1587.\n",
    "\n",
    "# Therefore, the probability that a randomly selected observation from the dataset will be greater than 60 is approximately 0.1587 or 15.87%."
   ]
  },
  {
   "cell_type": "code",
   "execution_count": 15,
   "id": "0a960de3-353e-4a4f-ac0d-47e481e6593a",
   "metadata": {},
   "outputs": [],
   "source": [
    "# Q7: Explain uniform Distribution with an example."
   ]
  },
  {
   "cell_type": "code",
   "execution_count": 16,
   "id": "0990c2db-da37-47f7-af23-208b98239445",
   "metadata": {},
   "outputs": [],
   "source": [
    "# The uniform distribution is a continuous probability distribution that describes a situation where all values within a given range are equally likely to occur. It is also known as a rectangular distribution.\n",
    "\n",
    "# In a uniform distribution, the probability density function (PDF) is constant between the lower and upper bounds of the distribution, and zero outside that range. The PDF is given by:\n",
    "\n",
    "# f(x) = 1 / (b - a) if a ≤ x ≤ b\n",
    "# 0 otherwise\n",
    "\n",
    "# where a and b are the lower and upper bounds of the distribution, respectively.\n",
    "\n",
    "# An example of a uniform distribution is rolling a fair six-sided die. Each outcome (1, 2, 3, 4, 5, or 6) has an equal probability of occurring, which is 1/6. \n",
    "# The range of values for the uniform distribution is from 1 to 6, and the probability of any particular outcome within that range is 1/6.\n",
    "\n",
    "# Another example is the height of a person chosen at random from a population within a certain range. If we assume that the heights of people within that range are equally distributed, \n",
    "# then the distribution of heights can be modeled as a uniform distribution. The lower bound could be the minimum height in the range, and the upper bound could be the maximum height in the range.\n",
    "\n",
    "# In summary, the uniform distribution describes a situation where all values within a given range are equally likely to occur, and the probability density function is constant within that range."
   ]
  },
  {
   "cell_type": "code",
   "execution_count": 17,
   "id": "a1790eb1-46ce-4ea0-8108-5b0c4a71541c",
   "metadata": {},
   "outputs": [],
   "source": [
    "# Q8: What is the z score? State the importance of the z score."
   ]
  },
  {
   "cell_type": "code",
   "execution_count": 18,
   "id": "d0ea8876-85c3-465c-b4c3-54e1356e1c28",
   "metadata": {},
   "outputs": [],
   "source": [
    "# The z-score, also known as the standard score, is a statistical measure that indicates how many standard deviations a data point is from the mean of a population.\n",
    "# It is calculated by subtracting the population mean from the data point and dividing the result by the population standard deviation.\n",
    "\n",
    "# The formula for calculating the z-score is:\n",
    "\n",
    "# z = (x - μ) / σ\n",
    "\n",
    "# where z is the z-score, x is the data point, μ is the population mean, and σ is the population standard deviation.\n",
    "\n",
    "# The importance of the z-score lies in its ability to standardize data so that it can be compared across different populations or datasets. \n",
    "# The z-score tells us how far a data point is from the mean in terms of standard deviations, which allows us to compare data points that have different units or scales.\n",
    "\n",
    "# For example, suppose we have two datasets with different units of measurement, such as height in inches and weight in pounds. \n",
    "# It is difficult to compare these datasets directly because the units are different. However, if we calculate the z-scores for each data point in both datasets, \n",
    "# we can standardize the data and compare them on a common scale.\n",
    "\n",
    "# The z-score also enables us to calculate probabilities and make inferences about population parameters.\n",
    "# By knowing the z-score, we can find the probability of a data point occurring in a normal distribution or calculate confidence intervals for population parameters.\n",
    "\n",
    "# In summary, the z-score is a statistical measure that standardizes data by expressing it in terms of standard deviations from the mean.\n",
    "# Its importance lies in its ability to standardize data and compare it across different populations or datasets, calculate probabilities, and make inferences about population parameters."
   ]
  },
  {
   "cell_type": "code",
   "execution_count": 19,
   "id": "da17af8d-7094-4573-9252-788c84f6aec7",
   "metadata": {},
   "outputs": [],
   "source": [
    "# Q9: What is Central Limit Theorem? State the significance of the Central Limit Theorem."
   ]
  },
  {
   "cell_type": "code",
   "execution_count": 20,
   "id": "a9f2fd0b-b955-4361-a82d-25e3bd02a50e",
   "metadata": {},
   "outputs": [],
   "source": [
    "# The Central Limit Theorem (CLT) is a fundamental concept in statistics that describes the behavior of the sample means of any distribution, regardless of the underlying distribution's shape. \n",
    "# The theorem states that the sample means of a sufficiently large number of independent and identically distributed random variables will be normally distributed, regardless of the original distribution's shape.\n",
    "\n",
    "# More specifically, the CLT states that the sample means will have a normal distribution with a mean equal to the population mean and a variance equal to the population variance divided by the sample size.\n",
    "\n",
    "# The significance of the CLT lies in its practical applications. It provides a theoretical foundation for many statistical methods used in practice, including hypothesis testing, confidence intervals, \n",
    "# and regression analysis. It allows us to make inferences about population parameters using sample data, even if the underlying distribution is unknown or non-normal.\n",
    "\n",
    "# The CLT is also important in quality control and process improvement. By taking repeated samples and calculating the sample means, we can estimate the mean and variance of the population distribution, \n",
    "# which can help us identify and correct problems in a process.\n",
    "\n",
    "# In summary, the Central Limit Theorem is a fundamental concept in statistics that describes the behavior of the sample means of any distribution. Its significance lies in its practical applications, \n",
    "# providing a theoretical foundation for many statistical methods used in practice and enabling us to make inferences about population parameters using sample data,\n",
    "# even if the underlying distribution is unknown or non-normal."
   ]
  },
  {
   "cell_type": "code",
   "execution_count": 21,
   "id": "b6f9f414-fe9e-4c1e-a6a8-d208b14dcbfe",
   "metadata": {},
   "outputs": [],
   "source": [
    "# Q10: State the assumptions of the Central Limit Theorem."
   ]
  },
  {
   "cell_type": "code",
   "execution_count": null,
   "id": "371b4c43-93b8-4ac0-9a99-1f6bc898872e",
   "metadata": {},
   "outputs": [],
   "source": [
    "# The Central Limit Theorem (CLT) has certain assumptions that must be met in order for it to be applicable. These assumptions include:\n",
    "\n",
    "# Independence: The sample observations must be independent of each other. In other words, the value of one observation should not affect the value of any other observation.\n",
    "\n",
    "# Sample size: The sample size should be large enough. There is no strict rule for how large the sample size should be, but a general rule of thumb is that the sample size should be at least 30.\n",
    "\n",
    "# Population distribution: The distribution of the population from which the samples are drawn should be approximately normal, or at least not highly skewed.\n",
    "\n",
    "# Random sampling: The samples should be selected at random from the population.\n",
    "\n",
    "# If these assumptions are met, the CLT can be used to estimate the mean and standard deviation of a population based on a sample of observations. \n",
    "# The CLT allows us to use the sample mean as an estimator of the population mean, and the sample standard deviation as an estimator of the population standard deviation. \n",
    "# The CLT is a powerful tool in statistics, allowing us to make inferences about a population from a sample of observations, even if the population distribution is not known."
   ]
  }
 ],
 "metadata": {
  "kernelspec": {
   "display_name": "Python 3 (ipykernel)",
   "language": "python",
   "name": "python3"
  },
  "language_info": {
   "codemirror_mode": {
    "name": "ipython",
    "version": 3
   },
   "file_extension": ".py",
   "mimetype": "text/x-python",
   "name": "python",
   "nbconvert_exporter": "python",
   "pygments_lexer": "ipython3",
   "version": "3.10.8"
  }
 },
 "nbformat": 4,
 "nbformat_minor": 5
}
